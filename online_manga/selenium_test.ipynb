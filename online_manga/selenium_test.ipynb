{
 "cells": [
  {
   "cell_type": "code",
   "execution_count": 14,
   "id": "df7fa4fe",
   "metadata": {},
   "outputs": [],
   "source": [
    "import sys\n",
    "from os import environ\n",
    "from base64 import b64decode\n",
    "from time import sleep, localtime, strftime\n",
    "from selenium import webdriver\n",
    "from selenium.common.exceptions import NoSuchElementException\n",
    "from selenium.webdriver.common.by import By"
   ]
  },
  {
   "cell_type": "code",
   "execution_count": 15,
   "id": "901a887b",
   "metadata": {},
   "outputs": [],
   "source": [
    "chrome_options = webdriver.ChromeOptions()\n",
    "chrome_options.add_argument('--no-sandbox')\n",
    "chrome_options.add_argument('--window-size=1920,1080')\n",
    "chrome_options.add_argument('--disable-extensions')\n",
    "#chrome_options.add_argument('--headless')\n",
    "chrome_options.add_argument(\"--start-maximized\")\n",
    "chrome_options.add_argument(\"--ignore-certificate-errors\")\n",
    "chrome_options.add_argument(\"--disable-popup-blocking\")\n",
    "chrome_options.add_argument('--profile-directory=Default')\n",
    "chrome_options.add_argument(\"--incognito\")\n",
    "chrome_options.add_argument('--disable-dev-shm-usage')\n",
    "\n",
    "driver = webdriver.Chrome(options=chrome_options)"
   ]
  },
  {
   "cell_type": "code",
   "execution_count": 3,
   "id": "b79c983b",
   "metadata": {},
   "outputs": [],
   "source": [
    "URL = 'https://www.natomanga.com/manga/black-fox-sword-master-of-mount-kunlun'\n",
    "driver.get(URL)"
   ]
  },
  {
   "cell_type": "code",
   "execution_count": 5,
   "id": "18f8f38b",
   "metadata": {},
   "outputs": [
    {
     "data": {
      "text/plain": [
       "[{'domain': '.natomanga.com',\n",
       "  'expiry': 1780331438,\n",
       "  'httpOnly': False,\n",
       "  'name': '_ga',\n",
       "  'path': '/',\n",
       "  'sameSite': 'Lax',\n",
       "  'secure': False,\n",
       "  'value': 'GA1.1.2037397539.1745771438'},\n",
       " {'domain': '.natomanga.com',\n",
       "  'expiry': 1780331438,\n",
       "  'httpOnly': False,\n",
       "  'name': '_ga_SFMBZBJXPJ',\n",
       "  'path': '/',\n",
       "  'sameSite': 'Lax',\n",
       "  'secure': False,\n",
       "  'value': 'GS1.1.1745771438.1.0.1745771438.0.0.0'},\n",
       " {'domain': 'www.natomanga.com',\n",
       "  'expiry': 1780241438,\n",
       "  'httpOnly': False,\n",
       "  'name': 'UGVyc2lzdFN0b3JhZ2U',\n",
       "  'path': '/',\n",
       "  'sameSite': 'Lax',\n",
       "  'secure': False,\n",
       "  'value': '%7B%7D'},\n",
       " {'domain': 'www.natomanga.com',\n",
       "  'expiry': 1745857837,\n",
       "  'httpOnly': False,\n",
       "  'name': 'location',\n",
       "  'path': '/',\n",
       "  'sameSite': 'Lax',\n",
       "  'secure': False,\n",
       "  'value': 'ES'},\n",
       " {'domain': 'www.natomanga.com',\n",
       "  'expiry': 1746376237,\n",
       "  'httpOnly': True,\n",
       "  'name': '__cflb',\n",
       "  'path': '/',\n",
       "  'sameSite': 'None',\n",
       "  'secure': True,\n",
       "  'value': '02DiuHeaTueuYie8hq3xjy9ZBKxoR3jpvbkDRKvtSAGqH'}]"
      ]
     },
     "execution_count": 5,
     "metadata": {},
     "output_type": "execute_result"
    }
   ],
   "source": [
    "driver.get_cookies()"
   ]
  },
  {
   "cell_type": "code",
   "execution_count": 4,
   "id": "eae3f73c",
   "metadata": {},
   "outputs": [
    {
     "data": {
      "text/plain": [
       "'02DiuHeaTueuYie8hq3xjy9ZBKxoR3jpvbkDRKvtSAGqH'"
      ]
     },
     "execution_count": 4,
     "metadata": {},
     "output_type": "execute_result"
    }
   ],
   "source": [
    "driver.get_cookie(\"__cflb\")[\"value\"]"
   ]
  },
  {
   "cell_type": "code",
   "execution_count": 6,
   "id": "493c0b4d",
   "metadata": {},
   "outputs": [
    {
     "name": "stdout",
     "output_type": "stream",
     "text": [
      "Chapter 29\n",
      "Chapter 28\n",
      "Chapter 27\n",
      "Chapter 26\n",
      "Chapter 25\n",
      "Chapter 24\n",
      "Chapter 23\n",
      "Chapter 22\n",
      "Chapter 21\n",
      "Chapter 20\n",
      "Chapter 19\n",
      "Chapter 18\n",
      "Chapter 17\n",
      "Chapter 16\n",
      "Chapter 15\n",
      "Chapter 14\n",
      "Chapter 13\n",
      "Chapter 12\n",
      "Chapter 11\n",
      "Chapter 10\n",
      "Chapter 9\n",
      "Chapter 8\n",
      "Chapter 7\n",
      "Chapter 6\n",
      "Chapter 5\n",
      "Chapter 4\n",
      "Chapter 3\n",
      "Chapter 2\n",
      "Chapter 1\n"
     ]
    }
   ],
   "source": [
    "chapters = driver.find_element(by=By.CLASS_NAME, value=\"chapter-list\")\n",
    "elements = chapters.find_elements(By.CLASS_NAME, 'row')\n",
    "\n",
    "for e in elements:\n",
    "    print(e.find_elements(by=By.TAG_NAME, value=\"span\")[0].text)"
   ]
  },
  {
   "cell_type": "code",
   "execution_count": 7,
   "id": "d8e1a5fa",
   "metadata": {},
   "outputs": [
    {
     "data": {
      "text/plain": [
       "'https://www.natomanga.com/manga/black-fox-sword-master-of-mount-kunlun/chapter-1'"
      ]
     },
     "execution_count": 7,
     "metadata": {},
     "output_type": "execute_result"
    }
   ],
   "source": [
    "URL = 'https://www.natomanga.com/manga/black-fox-sword-master-of-mount-kunlun'\n",
    "URL + \"/\" + \"Chapter 1\".lower().replace(\" \", \"-\")"
   ]
  },
  {
   "cell_type": "code",
   "execution_count": null,
   "id": "114b77e9",
   "metadata": {},
   "outputs": [
    {
     "data": {
      "text/plain": [
       "['https://www.natomanga.com/manga/black-fox-sword-master-of-mount-kunlun/chapter-29',\n",
       " 'https://www.natomanga.com/manga/black-fox-sword-master-of-mount-kunlun/chapter-28',\n",
       " 'https://www.natomanga.com/manga/black-fox-sword-master-of-mount-kunlun/chapter-27',\n",
       " 'https://www.natomanga.com/manga/black-fox-sword-master-of-mount-kunlun/chapter-26',\n",
       " 'https://www.natomanga.com/manga/black-fox-sword-master-of-mount-kunlun/chapter-25',\n",
       " 'https://www.natomanga.com/manga/black-fox-sword-master-of-mount-kunlun/chapter-24',\n",
       " 'https://www.natomanga.com/manga/black-fox-sword-master-of-mount-kunlun/chapter-23',\n",
       " 'https://www.natomanga.com/manga/black-fox-sword-master-of-mount-kunlun/chapter-22',\n",
       " 'https://www.natomanga.com/manga/black-fox-sword-master-of-mount-kunlun/chapter-21',\n",
       " 'https://www.natomanga.com/manga/black-fox-sword-master-of-mount-kunlun/chapter-20',\n",
       " 'https://www.natomanga.com/manga/black-fox-sword-master-of-mount-kunlun/chapter-19',\n",
       " 'https://www.natomanga.com/manga/black-fox-sword-master-of-mount-kunlun/chapter-18',\n",
       " 'https://www.natomanga.com/manga/black-fox-sword-master-of-mount-kunlun/chapter-17',\n",
       " 'https://www.natomanga.com/manga/black-fox-sword-master-of-mount-kunlun/chapter-16',\n",
       " 'https://www.natomanga.com/manga/black-fox-sword-master-of-mount-kunlun/chapter-15',\n",
       " 'https://www.natomanga.com/manga/black-fox-sword-master-of-mount-kunlun/chapter-14',\n",
       " 'https://www.natomanga.com/manga/black-fox-sword-master-of-mount-kunlun/chapter-13',\n",
       " 'https://www.natomanga.com/manga/black-fox-sword-master-of-mount-kunlun/chapter-12',\n",
       " 'https://www.natomanga.com/manga/black-fox-sword-master-of-mount-kunlun/chapter-11',\n",
       " 'https://www.natomanga.com/manga/black-fox-sword-master-of-mount-kunlun/chapter-10',\n",
       " 'https://www.natomanga.com/manga/black-fox-sword-master-of-mount-kunlun/chapter-9',\n",
       " 'https://www.natomanga.com/manga/black-fox-sword-master-of-mount-kunlun/chapter-8',\n",
       " 'https://www.natomanga.com/manga/black-fox-sword-master-of-mount-kunlun/chapter-7',\n",
       " 'https://www.natomanga.com/manga/black-fox-sword-master-of-mount-kunlun/chapter-6',\n",
       " 'https://www.natomanga.com/manga/black-fox-sword-master-of-mount-kunlun/chapter-5',\n",
       " 'https://www.natomanga.com/manga/black-fox-sword-master-of-mount-kunlun/chapter-4',\n",
       " 'https://www.natomanga.com/manga/black-fox-sword-master-of-mount-kunlun/chapter-3',\n",
       " 'https://www.natomanga.com/manga/black-fox-sword-master-of-mount-kunlun/chapter-2',\n",
       " 'https://www.natomanga.com/manga/black-fox-sword-master-of-mount-kunlun/chapter-1']"
      ]
     },
     "execution_count": 10,
     "metadata": {},
     "output_type": "execute_result"
    }
   ],
   "source": [
    "CHAPTERS_LIMIT = 10\n",
    "\n",
    "chapters = driver.find_element(by=By.CLASS_NAME, value=\"chapter-list\")\n",
    "elements = chapters.find_elements(By.CLASS_NAME, 'row')\n",
    "\n",
    "chapters_list = [URL + \"/\" + e.find_elements(by=By.TAG_NAME, value=\"span\")[0].text.lower().replace(\" \", \"-\") for e in elements]\n",
    "chapters_list.reverse()\n",
    "chapters_list"
   ]
  },
  {
   "cell_type": "code",
   "execution_count": null,
   "id": "c899e5a5",
   "metadata": {},
   "outputs": [
    {
     "data": {
      "text/plain": [
       "['https://www.natomanga.com/manga/black-fox-sword-master-of-mount-kunlun/chapter-9',\n",
       " 'https://www.natomanga.com/manga/black-fox-sword-master-of-mount-kunlun/chapter-8',\n",
       " 'https://www.natomanga.com/manga/black-fox-sword-master-of-mount-kunlun/chapter-7',\n",
       " 'https://www.natomanga.com/manga/black-fox-sword-master-of-mount-kunlun/chapter-6',\n",
       " 'https://www.natomanga.com/manga/black-fox-sword-master-of-mount-kunlun/chapter-5',\n",
       " 'https://www.natomanga.com/manga/black-fox-sword-master-of-mount-kunlun/chapter-4',\n",
       " 'https://www.natomanga.com/manga/black-fox-sword-master-of-mount-kunlun/chapter-3',\n",
       " 'https://www.natomanga.com/manga/black-fox-sword-master-of-mount-kunlun/chapter-29',\n",
       " 'https://www.natomanga.com/manga/black-fox-sword-master-of-mount-kunlun/chapter-28',\n",
       " 'https://www.natomanga.com/manga/black-fox-sword-master-of-mount-kunlun/chapter-27']"
      ]
     },
     "execution_count": 20,
     "metadata": {},
     "output_type": "execute_result"
    }
   ],
   "source": [
    "chapters_list_filtered = [l for l in chapters_list if int(l.split(\"-\")[-1]) > MAX_SAVED_CHAPTER]\n",
    "chapters_list_filtered[0:CHAPTERS_LIMIT]"
   ]
  },
  {
   "cell_type": "code",
   "execution_count": 4,
   "id": "c232e8ee",
   "metadata": {},
   "outputs": [],
   "source": [
    "from os import listdir\n",
    "\n",
    "def get_max_chapter(path):\n",
    "\n",
    "    #files = listdir(path)\n",
    "    files = [\n",
    "    \"blabal/path/somethin/chapter_001_0028.jpg\",\n",
    "    \"blabal/path/somethin/chapter_002_0028.jpg\",\n",
    "    \"blabal/path/somethin/chapter_002_0008.jpg\",\n",
    "    \"blabal/path/somethin/chapter_002_08.jpg\",\n",
    "    \"blabal/path/somethin/chapter_003_0028.jpg\",\n",
    "    \"blabal/path/somethin/chapter_004_0028.jpg\",\n",
    "    \"blabal/path/somethin/chapter_005_0028.jpg\"]\n",
    "\n",
    "\n",
    "    MAX_SAVED_CHAPTER = max([files_chapter.split(\"_\")[1] for files_chapter in files])\n",
    "    return int(MAX_SAVED_CHAPTER)"
   ]
  },
  {
   "cell_type": "code",
   "execution_count": null,
   "id": "c1628783",
   "metadata": {},
   "outputs": [
    {
     "data": {
      "text/plain": [
       "5"
      ]
     },
     "execution_count": 5,
     "metadata": {},
     "output_type": "execute_result"
    }
   ],
   "source": [
    "PATH = \"\"\n",
    "MAX_SAVED_CHAPTER = get_max_chapter(PATH)\n",
    "MAX_SAVED_CHAPTER"
   ]
  },
  {
   "cell_type": "code",
   "execution_count": null,
   "id": "6dc2230a",
   "metadata": {},
   "outputs": [],
   "source": [
    "#            img_path_zero_fill = \"00\" if len(basename(p).split(\".\")[0])== 1 else \"0\"\n",
    "#            chapter_path_zero_fill = \"00\" if len(str(chapter))== 1 else \"0\" if len(str(chapter))== 2 else \"\"\n",
    "\n",
    "# chapter_{}{}_{}{}\".format(chapter_path_zero_fill, chapter, img_path_zero_fill, basename(p))"
   ]
  },
  {
   "cell_type": "code",
   "execution_count": 16,
   "id": "2bca0b95",
   "metadata": {},
   "outputs": [],
   "source": [
    "driver.quit()"
   ]
  },
  {
   "cell_type": "markdown",
   "id": "6cb2cf57",
   "metadata": {},
   "source": [
    "# full test:"
   ]
  },
  {
   "cell_type": "code",
   "execution_count": 1,
   "id": "83b750b2",
   "metadata": {},
   "outputs": [],
   "source": [
    "import sys\n",
    "import requests\n",
    "\n",
    "from bs4 import BeautifulSoup\n",
    "from os import environ, listdir, path\n",
    "from time import sleep\n",
    "from selenium import webdriver\n",
    "from selenium.webdriver.common.by import By"
   ]
  },
  {
   "cell_type": "code",
   "execution_count": 5,
   "id": "6718afc4",
   "metadata": {},
   "outputs": [],
   "source": [
    "FOLDER_PATH = r\"Z:\\JD\\Star embracing Swordmaster\"\n",
    "FOLDER_PATH = r\"Z:\\JD\\Release that witch\"\n",
    "FOLDER_PATH = r\"Z:\\JD\\Auto Hunting With My Clones\"\n",
    "URL = \"https://www.natomanga.com/manga/star-embracing-swordmaster\"\n",
    "URL = \"https://www.natomanga.com/manga/release-that-witch-colored\"\n",
    "URL = \"https://www.natomanga.com/manga/auto-hunting-with-my-clones\"\n",
    "CHAPTERS_LIMIT = 5"
   ]
  },
  {
   "cell_type": "code",
   "execution_count": 6,
   "id": "79a52517",
   "metadata": {},
   "outputs": [
    {
     "data": {
      "text/plain": [
       "77.0"
      ]
     },
     "execution_count": 6,
     "metadata": {},
     "output_type": "execute_result"
    }
   ],
   "source": [
    "def get_max_saved_chapter(target_path):\n",
    "\n",
    "    try:\n",
    "        files = listdir(target_path)\n",
    "\n",
    "        if \"-Page_\" in files[0]:\n",
    "            print(\"Page files format\")\n",
    "            return max([float(files_chapter.split(\"-Page_\")[0].split(\" \")[-1]) if \";\" not in files_chapter else float(files_chapter.split(\";\")[0].split(\" \")[-1]) for files_chapter in files])\n",
    "        else:\n",
    "            return float(max([files_chapter.split(\"_\")[1] for files_chapter in files]))\n",
    "    except FileNotFoundError:\n",
    "        return 0.0\n",
    "\n",
    "\n",
    "MAX_SAVED_CHAPTER = get_max_saved_chapter(FOLDER_PATH)\n",
    "MAX_SAVED_CHAPTER"
   ]
  },
  {
   "cell_type": "code",
   "execution_count": 7,
   "metadata": {},
   "outputs": [],
   "source": [
    "chrome_options = webdriver.ChromeOptions()\n",
    "chrome_options.add_argument('--no-sandbox')\n",
    "chrome_options.add_argument('--window-size=1920,1080')\n",
    "chrome_options.add_argument('--disable-extensions')\n",
    "#chrome_options.add_argument('--headless')\n",
    "chrome_options.add_argument(\"--start-maximized\")\n",
    "chrome_options.add_argument(\"--ignore-certificate-errors\")\n",
    "chrome_options.add_argument(\"--disable-popup-blocking\")\n",
    "chrome_options.add_argument('--profile-directory=Default')\n",
    "chrome_options.add_argument(\"--incognito\")\n",
    "chrome_options.add_argument('--disable-dev-shm-usage')\n",
    "\n",
    "driver = webdriver.Chrome(options=chrome_options)\n",
    "driver.get(URL)\n",
    "sleep(6)"
   ]
  },
  {
   "cell_type": "code",
   "execution_count": 10,
   "id": "5a2c6d3b",
   "metadata": {},
   "outputs": [],
   "source": [
    "chapters = driver.find_element(by=By.CLASS_NAME, value=\"chapter-list\")\n",
    "elements = chapters.find_elements(By.CLASS_NAME, 'row')\n",
    "\n",
    "chapters_list = [URL + \"/\" + e.find_elements(by=By.TAG_NAME, value=\"span\")[0].text.lower().replace(\" \", \"-\").replace(\".\", \"-\") for e in elements]"
   ]
  },
  {
   "cell_type": "code",
   "execution_count": 6,
   "id": "f74c4b89",
   "metadata": {},
   "outputs": [
    {
     "name": "stdout",
     "output_type": "stream",
     "text": [
      "Total chapters found:  670 Max chapter in web:  664.0 chapters filtered:  59\n"
     ]
    },
    {
     "data": {
      "text/plain": [
       "['https://www.natomanga.com/manga/release-that-witch-colored/chapter-605',\n",
       " 'https://www.natomanga.com/manga/release-that-witch-colored/chapter-606',\n",
       " 'https://www.natomanga.com/manga/release-that-witch-colored/chapter-607',\n",
       " 'https://www.natomanga.com/manga/release-that-witch-colored/chapter-608',\n",
       " 'https://www.natomanga.com/manga/release-that-witch-colored/chapter-609']"
      ]
     },
     "execution_count": 6,
     "metadata": {},
     "output_type": "execute_result"
    }
   ],
   "source": [
    "chapters_list_filtered = [l for l in reversed(chapters_list) if float(l.split(\"-\")[-1]) > MAX_SAVED_CHAPTER]\n",
    "\n",
    "print(\"Total chapters found: \", len(chapters_list), \"Max chapter in web: \",max([ float(l.split(\"-\")[-1]) for l in reversed(chapters_list)]),   \"chapters filtered: \",  len(chapters_list_filtered))\n",
    "\n",
    "\n",
    "if len(chapters_list_filtered)>CHAPTERS_LIMIT:\n",
    "    extractable_chapters_list_filtered = chapters_list_filtered[0:CHAPTERS_LIMIT]\n",
    "else:\n",
    "    print(\"Less chapters available than chapter max limits\")\n",
    "    if max([ float(l.split(\"-\")[-1]) for l in reversed(chapters_list)]) == MAX_SAVED_CHAPTER:\n",
    "        print(\"NO more chapters available!!!!\")\n",
    "        sys.exit(0)\n",
    "    extractable_chapters_list_filtered = chapters_list_filtered\n",
    "\n",
    "\n",
    "extractable_chapters_list_filtered"
   ]
  },
  {
   "cell_type": "code",
   "execution_count": 11,
   "id": "bd8460d1",
   "metadata": {},
   "outputs": [],
   "source": [
    "driver.get(extractable_chapters_list_filtered[0])\n",
    "sleep(3)\n",
    "COOKIE = driver.get_cookie(\"__cflb\")[\"value\"]"
   ]
  },
  {
   "cell_type": "code",
   "execution_count": 10,
   "id": "4f4f89f4",
   "metadata": {},
   "outputs": [
    {
     "data": {
      "text/plain": [
       "'02DiuHeaTueuYie8hq4o5ScYiR5h8sSK2dg2gkakLuBfq'"
      ]
     },
     "execution_count": 10,
     "metadata": {},
     "output_type": "execute_result"
    }
   ],
   "source": [
    "driver.get_cookie(\"__cflb\")[\"value\"]"
   ]
  },
  {
   "cell_type": "code",
   "execution_count": 12,
   "id": "f904f77e",
   "metadata": {},
   "outputs": [],
   "source": [
    "driver.quit()"
   ]
  },
  {
   "cell_type": "code",
   "execution_count": 2,
   "metadata": {},
   "outputs": [],
   "source": [
    "def extract_images_path_option(url):\n",
    "\n",
    "    request = requests.get(url)\n",
    "    if request.status_code!=200:\n",
    "        print(\"Error\", request.status_code)\n",
    "\n",
    "    soup = BeautifulSoup(request.content, 'html.parser')\n",
    "\n",
    "    image_urls_list = []\n",
    "    for image in soup.find_all(\"div\", {\"class\": \"container-chapter-reader\"})[0].find_all(\"img\"):\n",
    "        image_urls_list.append(image[\"src\"])\n",
    "\n",
    "    return image_urls_list"
   ]
  },
  {
   "cell_type": "code",
   "execution_count": 4,
   "id": "71fd4248",
   "metadata": {},
   "outputs": [
    {
     "data": {
      "text/plain": [
       "['https://imgs-2.2xstorage.com/auto-hunting-with-my-clones/77.1/0.webp',\n",
       " 'https://imgs-2.2xstorage.com/auto-hunting-with-my-clones/77.1/1.webp',\n",
       " 'https://imgs-2.2xstorage.com/auto-hunting-with-my-clones/77.1/2.webp',\n",
       " 'https://imgs-2.2xstorage.com/auto-hunting-with-my-clones/77.1/3.webp',\n",
       " 'https://imgs-2.2xstorage.com/auto-hunting-with-my-clones/77.1/4.webp',\n",
       " 'https://imgs-2.2xstorage.com/auto-hunting-with-my-clones/77.1/5.webp',\n",
       " 'https://imgs-2.2xstorage.com/auto-hunting-with-my-clones/77.1/6.webp',\n",
       " 'https://imgs-2.2xstorage.com/auto-hunting-with-my-clones/77.1/7.webp',\n",
       " 'https://imgs-2.2xstorage.com/auto-hunting-with-my-clones/77.1/8.webp',\n",
       " 'https://imgs-2.2xstorage.com/auto-hunting-with-my-clones/77.1/9.webp',\n",
       " 'https://imgs-2.2xstorage.com/auto-hunting-with-my-clones/77.1/10.webp',\n",
       " 'https://imgs-2.2xstorage.com/auto-hunting-with-my-clones/77.1/11.webp',\n",
       " 'https://imgs-2.2xstorage.com/auto-hunting-with-my-clones/77.1/12.webp',\n",
       " 'https://imgs-2.2xstorage.com/auto-hunting-with-my-clones/77.1/13.webp',\n",
       " 'https://imgs-2.2xstorage.com/auto-hunting-with-my-clones/77.1/14.webp',\n",
       " 'https://imgs-2.2xstorage.com/auto-hunting-with-my-clones/77.1/15.webp',\n",
       " 'https://imgs-2.2xstorage.com/auto-hunting-with-my-clones/77.1/16.webp',\n",
       " 'https://imgs-2.2xstorage.com/auto-hunting-with-my-clones/77.1/17.webp',\n",
       " 'https://imgs-2.2xstorage.com/auto-hunting-with-my-clones/77.1/18.webp',\n",
       " 'https://imgs-2.2xstorage.com/auto-hunting-with-my-clones/77.1/19.webp',\n",
       " 'https://imgs-2.2xstorage.com/auto-hunting-with-my-clones/77.1/20.webp',\n",
       " 'https://imgs-2.2xstorage.com/auto-hunting-with-my-clones/77.1/21.webp',\n",
       " 'https://imgs-2.2xstorage.com/auto-hunting-with-my-clones/77.1/22.webp',\n",
       " 'https://imgs-2.2xstorage.com/auto-hunting-with-my-clones/77.1/23.webp',\n",
       " 'https://imgs-2.2xstorage.com/auto-hunting-with-my-clones/77.1/24.webp',\n",
       " 'https://imgs-2.2xstorage.com/auto-hunting-with-my-clones/77.1/25.webp',\n",
       " 'https://imgs-2.2xstorage.com/auto-hunting-with-my-clones/77.1/26.webp',\n",
       " 'https://imgs-2.2xstorage.com/auto-hunting-with-my-clones/77.1/27.webp',\n",
       " 'https://imgs-2.2xstorage.com/auto-hunting-with-my-clones/77.1/28.webp',\n",
       " 'https://imgs-2.2xstorage.com/auto-hunting-with-my-clones/77.1/29.webp',\n",
       " 'https://imgs-2.2xstorage.com/auto-hunting-with-my-clones/77.1/30.webp',\n",
       " 'https://imgs-2.2xstorage.com/auto-hunting-with-my-clones/77.1/31.webp',\n",
       " 'https://imgs-2.2xstorage.com/auto-hunting-with-my-clones/77.1/32.webp',\n",
       " 'https://imgs-2.2xstorage.com/auto-hunting-with-my-clones/77.1/33.webp',\n",
       " 'https://imgs-2.2xstorage.com/auto-hunting-with-my-clones/77.1/34.webp',\n",
       " 'https://imgs-2.2xstorage.com/auto-hunting-with-my-clones/77.1/35.webp',\n",
       " 'https://imgs-2.2xstorage.com/auto-hunting-with-my-clones/77.1/36.webp',\n",
       " 'https://imgs-2.2xstorage.com/auto-hunting-with-my-clones/77.1/37.webp',\n",
       " 'https://imgs-2.2xstorage.com/auto-hunting-with-my-clones/77.1/38.webp',\n",
       " 'https://imgs-2.2xstorage.com/auto-hunting-with-my-clones/77.1/39.webp',\n",
       " 'https://imgs-2.2xstorage.com/auto-hunting-with-my-clones/77.1/40.webp',\n",
       " 'https://imgs-2.2xstorage.com/auto-hunting-with-my-clones/77.1/41.webp',\n",
       " 'https://imgs-2.2xstorage.com/auto-hunting-with-my-clones/77.1/42.webp',\n",
       " 'https://imgs-2.2xstorage.com/auto-hunting-with-my-clones/77.1/43.webp',\n",
       " 'https://imgs-2.2xstorage.com/auto-hunting-with-my-clones/77.1/44.webp',\n",
       " 'https://imgs-2.2xstorage.com/auto-hunting-with-my-clones/77.1/45.webp',\n",
       " 'https://imgs-2.2xstorage.com/auto-hunting-with-my-clones/77.1/46.webp',\n",
       " 'https://imgs-2.2xstorage.com/auto-hunting-with-my-clones/77.1/47.webp',\n",
       " 'https://imgs-2.2xstorage.com/auto-hunting-with-my-clones/77.1/48.webp',\n",
       " 'https://imgs-2.2xstorage.com/auto-hunting-with-my-clones/77.1/49.webp',\n",
       " 'https://imgs-2.2xstorage.com/auto-hunting-with-my-clones/77.1/50.webp',\n",
       " 'https://imgs-2.2xstorage.com/auto-hunting-with-my-clones/77.1/51.webp',\n",
       " 'https://imgs-2.2xstorage.com/auto-hunting-with-my-clones/77.1/52.webp',\n",
       " 'https://imgs-2.2xstorage.com/auto-hunting-with-my-clones/77.1/53.webp',\n",
       " 'https://imgs-2.2xstorage.com/auto-hunting-with-my-clones/77.1/54.webp',\n",
       " 'https://imgs-2.2xstorage.com/auto-hunting-with-my-clones/77.1/55.webp',\n",
       " 'https://imgs-2.2xstorage.com/auto-hunting-with-my-clones/77.1/56.webp',\n",
       " 'https://imgs-2.2xstorage.com/auto-hunting-with-my-clones/77.1/57.webp',\n",
       " 'https://imgs-2.2xstorage.com/auto-hunting-with-my-clones/77.1/58.webp',\n",
       " 'https://imgs-2.2xstorage.com/auto-hunting-with-my-clones/77.1/59.webp',\n",
       " 'https://imgs-2.2xstorage.com/auto-hunting-with-my-clones/77.1/60.webp',\n",
       " 'https://imgs-2.2xstorage.com/auto-hunting-with-my-clones/77.1/61.webp',\n",
       " 'https://imgs-2.2xstorage.com/auto-hunting-with-my-clones/77.1/62.webp',\n",
       " 'https://imgs-2.2xstorage.com/auto-hunting-with-my-clones/77.1/63.webp',\n",
       " 'https://imgs-2.2xstorage.com/auto-hunting-with-my-clones/77.1/64.webp',\n",
       " 'https://imgs-2.2xstorage.com/auto-hunting-with-my-clones/77.1/65.webp',\n",
       " 'https://imgs-2.2xstorage.com/auto-hunting-with-my-clones/77.1/66.webp',\n",
       " 'https://imgs-2.2xstorage.com/auto-hunting-with-my-clones/77.1/67.webp',\n",
       " 'https://imgs-2.2xstorage.com/auto-hunting-with-my-clones/77.1/68.webp',\n",
       " 'https://imgs-2.2xstorage.com/auto-hunting-with-my-clones/77.1/69.webp',\n",
       " 'https://imgs-2.2xstorage.com/auto-hunting-with-my-clones/77.1/70.webp',\n",
       " 'https://imgs-2.2xstorage.com/auto-hunting-with-my-clones/77.1/71.webp',\n",
       " 'https://imgs-2.2xstorage.com/auto-hunting-with-my-clones/77.1/72.webp',\n",
       " 'https://imgs-2.2xstorage.com/auto-hunting-with-my-clones/77.1/73.webp',\n",
       " 'https://imgs-2.2xstorage.com/auto-hunting-with-my-clones/77.1/74.webp',\n",
       " 'https://imgs-2.2xstorage.com/auto-hunting-with-my-clones/77.1/75.webp',\n",
       " 'https://imgs-2.2xstorage.com/auto-hunting-with-my-clones/77.1/76.webp',\n",
       " 'https://imgs-2.2xstorage.com/auto-hunting-with-my-clones/77.1/77.webp',\n",
       " 'https://imgs-2.2xstorage.com/auto-hunting-with-my-clones/77.1/78.webp',\n",
       " 'https://imgs-2.2xstorage.com/auto-hunting-with-my-clones/77.1/79.webp',\n",
       " 'https://imgs-2.2xstorage.com/auto-hunting-with-my-clones/77.1/80.webp',\n",
       " 'https://imgs-2.2xstorage.com/auto-hunting-with-my-clones/77.1/81.webp',\n",
       " 'https://imgs-2.2xstorage.com/auto-hunting-with-my-clones/77.1/82.webp',\n",
       " 'https://imgs-2.2xstorage.com/auto-hunting-with-my-clones/77.1/83.webp',\n",
       " 'https://imgs-2.2xstorage.com/auto-hunting-with-my-clones/77.1/84.webp',\n",
       " 'https://imgs-2.2xstorage.com/auto-hunting-with-my-clones/77.1/85.webp',\n",
       " 'https://imgs-2.2xstorage.com/auto-hunting-with-my-clones/77.1/86.webp',\n",
       " 'https://imgs-2.2xstorage.com/auto-hunting-with-my-clones/77.1/87.webp',\n",
       " 'https://imgs-2.2xstorage.com/auto-hunting-with-my-clones/77.1/88.webp',\n",
       " 'https://imgs-2.2xstorage.com/auto-hunting-with-my-clones/77.1/89.webp',\n",
       " 'https://imgs-2.2xstorage.com/auto-hunting-with-my-clones/77.1/90.webp',\n",
       " 'https://imgs-2.2xstorage.com/auto-hunting-with-my-clones/77.1/91.webp',\n",
       " 'https://imgs-2.2xstorage.com/auto-hunting-with-my-clones/77.1/92.webp',\n",
       " 'https://imgs-2.2xstorage.com/auto-hunting-with-my-clones/77.1/93.webp',\n",
       " 'https://imgs-2.2xstorage.com/auto-hunting-with-my-clones/77.1/94.webp',\n",
       " 'https://imgs-2.2xstorage.com/auto-hunting-with-my-clones/77.1/95.webp',\n",
       " 'https://imgs-2.2xstorage.com/auto-hunting-with-my-clones/77.1/96.webp',\n",
       " 'https://imgs-2.2xstorage.com/auto-hunting-with-my-clones/77.1/97.webp',\n",
       " 'https://imgs-2.2xstorage.com/auto-hunting-with-my-clones/77.1/98.webp',\n",
       " 'https://imgs-2.2xstorage.com/auto-hunting-with-my-clones/77.1/99.webp',\n",
       " 'https://imgs-2.2xstorage.com/auto-hunting-with-my-clones/77.1/100.webp',\n",
       " 'https://imgs-2.2xstorage.com/auto-hunting-with-my-clones/77.1/101.webp',\n",
       " 'https://imgs-2.2xstorage.com/auto-hunting-with-my-clones/77.1/102.webp',\n",
       " 'https://imgs-2.2xstorage.com/auto-hunting-with-my-clones/77.1/103.webp',\n",
       " 'https://imgs-2.2xstorage.com/auto-hunting-with-my-clones/77.1/104.webp',\n",
       " 'https://imgs-2.2xstorage.com/auto-hunting-with-my-clones/77.1/105.webp',\n",
       " 'https://imgs-2.2xstorage.com/auto-hunting-with-my-clones/77.1/106.webp',\n",
       " 'https://imgs-2.2xstorage.com/auto-hunting-with-my-clones/77.1/107.webp',\n",
       " 'https://imgs-2.2xstorage.com/auto-hunting-with-my-clones/77.1/108.webp',\n",
       " 'https://imgs-2.2xstorage.com/auto-hunting-with-my-clones/77.1/109.webp',\n",
       " 'https://imgs-2.2xstorage.com/auto-hunting-with-my-clones/77.1/110.webp',\n",
       " 'https://imgs-2.2xstorage.com/auto-hunting-with-my-clones/77.1/111.webp',\n",
       " 'https://imgs-2.2xstorage.com/auto-hunting-with-my-clones/77.1/112.webp',\n",
       " 'https://imgs-2.2xstorage.com/auto-hunting-with-my-clones/77.1/113.webp',\n",
       " 'https://imgs-2.2xstorage.com/auto-hunting-with-my-clones/77.1/114.webp',\n",
       " 'https://imgs-2.2xstorage.com/auto-hunting-with-my-clones/77.1/115.webp',\n",
       " 'https://imgs-2.2xstorage.com/auto-hunting-with-my-clones/77.1/116.webp',\n",
       " 'https://imgs-2.2xstorage.com/auto-hunting-with-my-clones/77.1/117.webp',\n",
       " 'https://imgs-2.2xstorage.com/auto-hunting-with-my-clones/77.1/118.webp']"
      ]
     },
     "execution_count": 4,
     "metadata": {},
     "output_type": "execute_result"
    }
   ],
   "source": [
    "url = \"https://www.natomanga.com/manga/auto-hunting-with-my-clones/chapter-77-1\"\n",
    "extract_images_path_option(url)"
   ]
  },
  {
   "cell_type": "code",
   "execution_count": 14,
   "id": "1b4ad308",
   "metadata": {},
   "outputs": [],
   "source": [
    "chapter_url = \"https://www.natomanga.com/\"\n",
    "cookies = {\n",
    "    \"__cflb\": COOKIE,\n",
    "}"
   ]
  },
  {
   "cell_type": "code",
   "execution_count": 15,
   "id": "12ba8fea",
   "metadata": {},
   "outputs": [],
   "source": [
    "files = listdir(FOLDER_PATH)\n",
    "\n",
    "if \"-Page_\" in files[0]:\n",
    "    # personaliced filename\n",
    "    standard_file_format = False\n",
    "    root_name = files[0].split(\"_Chapter\")[0] + \"_Chapter \"\n",
    "    img_path_zero_fill = \"-Page_\"\n",
    "else:\n",
    "    standard_file_format = True\n",
    "    root_name = \"chapter_\"\n",
    "    img_path_zero_fill = \"_\""
   ]
  },
  {
   "cell_type": "code",
   "execution_count": 23,
   "id": "74113c23",
   "metadata": {},
   "outputs": [
    {
     "data": {
      "text/plain": [
       "'Star-Embracing Swordmaster_Chapter'"
      ]
     },
     "execution_count": 23,
     "metadata": {},
     "output_type": "execute_result"
    }
   ],
   "source": [
    "\"Star-Embracing Swordmaster_Chapter 1-Page_031.webp\".split(\"_Chapter\")[0] + \"_Chapter \""
   ]
  },
  {
   "cell_type": "code",
   "execution_count": 44,
   "id": "03299da9",
   "metadata": {},
   "outputs": [
    {
     "name": "stdout",
     "output_type": "stream",
     "text": [
      "Z:\\JD\\Star embracing SwordmasterStar-Embracing Swordmaster_Chapter 0062\n"
     ]
    }
   ],
   "source": [
    "print(r\"{}{}{num:0>4}\".format(FOLDER_PATH, root_name, num=chapter))"
   ]
  },
  {
   "cell_type": "code",
   "execution_count": 48,
   "id": "8c590240",
   "metadata": {},
   "outputs": [
    {
     "name": "stdout",
     "output_type": "stream",
     "text": [
      "Z:\\JD\\Star embracing Swordmaster\\Star-Embracing Swordmaster_Chapter 0062-Page_000.webp\n"
     ]
    }
   ],
   "source": [
    "print(r\"{}\\{}{:0>4}{}{:0>3}{}\".format(FOLDER_PATH, root_name, chapter, img_path_zero_fill, n, file_extension))"
   ]
  },
  {
   "cell_type": "code",
   "execution_count": null,
   "id": "3ef4a9bb",
   "metadata": {},
   "outputs": [],
   "source": [
    "print(r\"{}\\{}{:04}{}{:03}{}\".format(FOLDER_PATH, root_name, chapter, \"-Page_\", n, file_extension))"
   ]
  },
  {
   "cell_type": "code",
   "execution_count": null,
   "id": "de26fe76",
   "metadata": {},
   "outputs": [],
   "source": [
    "print(r\"{}\\\\{}{:04}{}{:03}{}\".format(FOLDER_PATH, root_name, chapter, \"_\", n, file_extension))"
   ]
  },
  {
   "cell_type": "code",
   "execution_count": 27,
   "id": "4c7d584d",
   "metadata": {},
   "outputs": [
    {
     "name": "stdout",
     "output_type": "stream",
     "text": [
      "Z:\\JD\\Release that witch\\Release That Witch_Chapter 0062-Page_012.webp\n"
     ]
    }
   ],
   "source": [
    "print(\"{}\\\\{}{:04}{}{:03}{}\".format(FOLDER_PATH, root_name, 62, img_path_zero_fill, 12, \".webp\"))"
   ]
  },
  {
   "cell_type": "code",
   "execution_count": 26,
   "id": "44766447",
   "metadata": {},
   "outputs": [
    {
     "data": {
      "text/plain": [
       "['https://www.natomanga.com/manga/release-that-witch-colored/chapter-603']"
      ]
     },
     "execution_count": 26,
     "metadata": {},
     "output_type": "execute_result"
    }
   ],
   "source": [
    "extractable_chapters_list_filtered[0:1]"
   ]
  },
  {
   "cell_type": "code",
   "execution_count": 16,
   "id": "90678cc2",
   "metadata": {},
   "outputs": [
    {
     "name": "stdout",
     "output_type": "stream",
     "text": [
      "https://www.natomanga.com/manga/release-that-witch-colored/chapter-605\n",
      "0 https://img-r1.2xstorage.com/release-that-witch-colored/605/0.webp 605\n",
      "1 https://img-r1.2xstorage.com/release-that-witch-colored/605/1.webp 605\n",
      "2 https://img-r1.2xstorage.com/release-that-witch-colored/605/2.webp 605\n",
      "3 https://img-r1.2xstorage.com/release-that-witch-colored/605/3.webp 605\n",
      "4 https://img-r1.2xstorage.com/release-that-witch-colored/605/4.webp 605\n",
      "5 https://img-r1.2xstorage.com/release-that-witch-colored/605/5.webp 605\n",
      "6 https://img-r1.2xstorage.com/release-that-witch-colored/605/6.webp 605\n",
      "7 https://img-r1.2xstorage.com/release-that-witch-colored/605/7.webp 605\n",
      "8 https://img-r1.2xstorage.com/release-that-witch-colored/605/8.webp 605\n",
      "9 https://img-r1.2xstorage.com/release-that-witch-colored/605/9.webp 605\n",
      "10 https://img-r1.2xstorage.com/release-that-witch-colored/605/10.webp 605\n",
      "11 https://img-r1.2xstorage.com/release-that-witch-colored/605/11.webp 605\n",
      "12 https://img-r1.2xstorage.com/release-that-witch-colored/605/12.webp 605\n",
      "13 https://img-r1.2xstorage.com/release-that-witch-colored/605/13.webp 605\n",
      "14 https://img-r1.2xstorage.com/release-that-witch-colored/605/14.webp 605\n",
      "15 https://img-r1.2xstorage.com/release-that-witch-colored/605/15.webp 605\n",
      "16 https://img-r1.2xstorage.com/release-that-witch-colored/605/16.webp 605\n",
      "17 https://img-r1.2xstorage.com/release-that-witch-colored/605/17.webp 605\n",
      "18 https://img-r1.2xstorage.com/release-that-witch-colored/605/18.webp 605\n",
      "19 https://img-r1.2xstorage.com/release-that-witch-colored/605/19.webp 605\n",
      "20 https://img-r1.2xstorage.com/release-that-witch-colored/605/20.webp 605\n",
      "21 https://img-r1.2xstorage.com/release-that-witch-colored/605/21.webp 605\n",
      "22 https://img-r1.2xstorage.com/release-that-witch-colored/605/22.webp 605\n",
      "23 https://img-r1.2xstorage.com/release-that-witch-colored/605/23.webp 605\n",
      "24 https://img-r1.2xstorage.com/release-that-witch-colored/605/24.webp 605\n",
      "25 https://img-r1.2xstorage.com/release-that-witch-colored/605/25.webp 605\n",
      "26 https://img-r1.2xstorage.com/release-that-witch-colored/605/26.webp 605\n",
      "27 https://img-r1.2xstorage.com/release-that-witch-colored/605/27.webp 605\n",
      "28 https://img-r1.2xstorage.com/release-that-witch-colored/605/28.webp 605\n",
      "29 https://img-r1.2xstorage.com/release-that-witch-colored/605/29.webp 605\n",
      "30 https://img-r1.2xstorage.com/release-that-witch-colored/605/30.webp 605\n",
      "31 https://img-r1.2xstorage.com/release-that-witch-colored/605/31.webp 605\n",
      "32 https://img-r1.2xstorage.com/release-that-witch-colored/605/32.webp 605\n",
      "33 https://img-r1.2xstorage.com/release-that-witch-colored/605/33.webp 605\n",
      "34 https://img-r1.2xstorage.com/release-that-witch-colored/605/34.webp 605\n",
      "35 https://img-r1.2xstorage.com/release-that-witch-colored/605/35.webp 605\n",
      "36 https://img-r1.2xstorage.com/release-that-witch-colored/605/36.webp 605\n",
      "37 https://img-r1.2xstorage.com/release-that-witch-colored/605/37.webp 605\n",
      "38 https://img-r1.2xstorage.com/release-that-witch-colored/605/38.webp 605\n",
      "39 https://img-r1.2xstorage.com/release-that-witch-colored/605/39.webp 605\n",
      "40 https://img-r1.2xstorage.com/release-that-witch-colored/605/40.webp 605\n",
      "41 https://img-r1.2xstorage.com/release-that-witch-colored/605/41.webp 605\n",
      "42 https://img-r1.2xstorage.com/release-that-witch-colored/605/42.webp 605\n",
      "43 https://img-r1.2xstorage.com/release-that-witch-colored/605/43.webp 605\n",
      "chapter 605 finished\n",
      "https://www.natomanga.com/manga/release-that-witch-colored/chapter-606\n",
      "0 https://img-r1.2xstorage.com/release-that-witch-colored/606/0.webp 606\n",
      "1 https://img-r1.2xstorage.com/release-that-witch-colored/606/1.webp 606\n",
      "2 https://img-r1.2xstorage.com/release-that-witch-colored/606/2.webp 606\n",
      "3 https://img-r1.2xstorage.com/release-that-witch-colored/606/3.webp 606\n",
      "4 https://img-r1.2xstorage.com/release-that-witch-colored/606/4.webp 606\n",
      "5 https://img-r1.2xstorage.com/release-that-witch-colored/606/5.webp 606\n",
      "6 https://img-r1.2xstorage.com/release-that-witch-colored/606/6.webp 606\n",
      "7 https://img-r1.2xstorage.com/release-that-witch-colored/606/7.webp 606\n",
      "8 https://img-r1.2xstorage.com/release-that-witch-colored/606/8.webp 606\n",
      "9 https://img-r1.2xstorage.com/release-that-witch-colored/606/9.webp 606\n",
      "10 https://img-r1.2xstorage.com/release-that-witch-colored/606/10.webp 606\n",
      "11 https://img-r1.2xstorage.com/release-that-witch-colored/606/11.webp 606\n",
      "12 https://img-r1.2xstorage.com/release-that-witch-colored/606/12.webp 606\n",
      "13 https://img-r1.2xstorage.com/release-that-witch-colored/606/13.webp 606\n",
      "14 https://img-r1.2xstorage.com/release-that-witch-colored/606/14.webp 606\n",
      "15 https://img-r1.2xstorage.com/release-that-witch-colored/606/15.webp 606\n",
      "16 https://img-r1.2xstorage.com/release-that-witch-colored/606/16.webp 606\n",
      "17 https://img-r1.2xstorage.com/release-that-witch-colored/606/17.webp 606\n",
      "18 https://img-r1.2xstorage.com/release-that-witch-colored/606/18.webp 606\n",
      "19 https://img-r1.2xstorage.com/release-that-witch-colored/606/19.webp 606\n",
      "20 https://img-r1.2xstorage.com/release-that-witch-colored/606/20.webp 606\n",
      "21 https://img-r1.2xstorage.com/release-that-witch-colored/606/21.webp 606\n",
      "22 https://img-r1.2xstorage.com/release-that-witch-colored/606/22.webp 606\n",
      "23 https://img-r1.2xstorage.com/release-that-witch-colored/606/23.webp 606\n",
      "24 https://img-r1.2xstorage.com/release-that-witch-colored/606/24.webp 606\n",
      "25 https://img-r1.2xstorage.com/release-that-witch-colored/606/25.webp 606\n",
      "26 https://img-r1.2xstorage.com/release-that-witch-colored/606/26.webp 606\n",
      "27 https://img-r1.2xstorage.com/release-that-witch-colored/606/27.webp 606\n",
      "28 https://img-r1.2xstorage.com/release-that-witch-colored/606/28.webp 606\n",
      "29 https://img-r1.2xstorage.com/release-that-witch-colored/606/29.webp 606\n",
      "30 https://img-r1.2xstorage.com/release-that-witch-colored/606/30.webp 606\n",
      "31 https://img-r1.2xstorage.com/release-that-witch-colored/606/31.webp 606\n",
      "32 https://img-r1.2xstorage.com/release-that-witch-colored/606/32.webp 606\n",
      "33 https://img-r1.2xstorage.com/release-that-witch-colored/606/33.webp 606\n",
      "34 https://img-r1.2xstorage.com/release-that-witch-colored/606/34.webp 606\n",
      "35 https://img-r1.2xstorage.com/release-that-witch-colored/606/35.webp 606\n",
      "36 https://img-r1.2xstorage.com/release-that-witch-colored/606/36.webp 606\n",
      "37 https://img-r1.2xstorage.com/release-that-witch-colored/606/37.webp 606\n",
      "38 https://img-r1.2xstorage.com/release-that-witch-colored/606/38.webp 606\n",
      "39 https://img-r1.2xstorage.com/release-that-witch-colored/606/39.webp 606\n",
      "40 https://img-r1.2xstorage.com/release-that-witch-colored/606/40.webp 606\n",
      "41 https://img-r1.2xstorage.com/release-that-witch-colored/606/41.webp 606\n",
      "42 https://img-r1.2xstorage.com/release-that-witch-colored/606/42.webp 606\n",
      "43 https://img-r1.2xstorage.com/release-that-witch-colored/606/43.webp 606\n",
      "44 https://img-r1.2xstorage.com/release-that-witch-colored/606/44.webp 606\n",
      "45 https://img-r1.2xstorage.com/release-that-witch-colored/606/45.webp 606\n",
      "46 https://img-r1.2xstorage.com/release-that-witch-colored/606/46.webp 606\n",
      "47 https://img-r1.2xstorage.com/release-that-witch-colored/606/47.webp 606\n",
      "48 https://img-r1.2xstorage.com/release-that-witch-colored/606/48.webp 606\n",
      "49 https://img-r1.2xstorage.com/release-that-witch-colored/606/49.webp 606\n",
      "chapter 606 finished\n",
      "THE END!!!\n"
     ]
    }
   ],
   "source": [
    "for chap in extractable_chapters_list_filtered[0:2]:\n",
    "    print(chap)\n",
    "    image_urls = extract_images_path_option(chap)\n",
    "\n",
    "    chapter = chap.split(\"-\")[-1]\n",
    "\n",
    "    with requests.Session() as session:\n",
    "        for n, p in enumerate(image_urls):\n",
    "            print(n, p, chapter)\n",
    "            file_extension = path.splitext(p)[1]\n",
    "            resp_2 = session.get(p,\n",
    "                        headers={\"referer\":chapter_url, \n",
    "                        'User-Agent':'Mozilla/5.0 (Macintosh; Intel Mac OS X 10_11_5) AppleWebKit/537.36 (KHTML, like Gecko) Chrome/50.0.2661.102 Safari/537.36',\n",
    "                        'Accept-Language': 'en-US,en;q=0.5',\n",
    "                        'Accept': 'text/html,application/xhtml+xml,application/xml;q=0.9,image/avif,image/webp,*/*;q=0.8'},\n",
    "                        cookies=cookies)\n",
    "            if resp_2.status_code!=200:\n",
    "                print(\"Error\", resp_2.status_code)\n",
    "\n",
    "            with open(r\"{}\\{}{:0>4}{}{:0>3}{}\".format(FOLDER_PATH, root_name, chapter, img_path_zero_fill, n, file_extension), 'wb') as outfile:\n",
    "                outfile.write(resp_2.content)\n",
    "\n",
    "            sleep(1.5)\n",
    "    print(\"chapter {} finished\".format(chapter))\n",
    "    sleep(1)\n",
    "\n",
    "\n",
    "print(\"THE END!!!\")"
   ]
  },
  {
   "cell_type": "code",
   "execution_count": null,
   "id": "331b6765",
   "metadata": {},
   "outputs": [],
   "source": []
  },
  {
   "cell_type": "code",
   "execution_count": null,
   "id": "338fbf1f",
   "metadata": {},
   "outputs": [],
   "source": []
  },
  {
   "cell_type": "code",
   "execution_count": null,
   "id": "9d9ebe95",
   "metadata": {},
   "outputs": [],
   "source": [
    "\"https://www.gocomics.com/garfieldespanol\"\n",
    "\"https://www.gocomics.com/garfieldespanol/2025/04/28\""
   ]
  },
  {
   "cell_type": "code",
   "execution_count": null,
   "id": "4a014b21",
   "metadata": {},
   "outputs": [],
   "source": [
    "import urllib.request\n",
    "from urllib.error import URLError, HTTPError\n",
    "from sys import argv\n",
    "from os import sep\n",
    "from requests import get as get_request\n",
    "from bs4 import BeautifulSoup"
   ]
  },
  {
   "cell_type": "code",
   "execution_count": null,
   "id": "b8b782fa",
   "metadata": {},
   "outputs": [],
   "source": [
    "# Creation of the list with the links to get the comic strip\n",
    "#links_list = [\"http://www.gocomics.com/garfieldespanol /\" + (d1 + timedelta(days=i)).strftime(\"%Y/%m/%d\") for i in range(delta.days + 1)]\n",
    "\n",
    "\n",
    "links_list = [\"https://www.gocomics.com/garfieldespanol/2025/04/28\"]\n",
    "\"https://www.gocomics.com/garfieldespanol/2025/04/27\"\n",
    "i = 0\n",
    "page_request = get_request(links_list[i])"
   ]
  },
  {
   "cell_type": "code",
   "execution_count": 12,
   "id": "3489bb54",
   "metadata": {},
   "outputs": [
    {
     "data": {
      "text/plain": [
       "'https://featureassets.gocomics.com/assets/bde4d4e002cf013e9c77005056a9545d?optimizer=image&width=2800&quality=85'"
      ]
     },
     "execution_count": 12,
     "metadata": {},
     "output_type": "execute_result"
    }
   ],
   "source": [
    "one[1][\"src\"]"
   ]
  },
  {
   "cell_type": "code",
   "execution_count": null,
   "id": "9e48d506",
   "metadata": {},
   "outputs": [],
   "source": [
    "soup = BeautifulSoup(page_request.content, 'html.parser')\n",
    "one = soup.findAll(\"img\")\n",
    "loop_img = one[1][\"src\"]\n",
    "\n",
    "output = \"garf_\" + links_list[i][-10:].replace(\"/\", \"_\") + '.png'\n",
    "urllib.request.urlretrieve(loop_img, output)\n",
    "\n",
    "# Now paste information in a csv as log file list_comics.csv (optional)\n",
    "if page_request.status_code != 200:\n",
    "    link = \"error web page\"\n"
   ]
  },
  {
   "cell_type": "code",
   "execution_count": 1,
   "id": "689fc66f",
   "metadata": {},
   "outputs": [
    {
     "name": "stdout",
     "output_type": "stream",
     "text": [
      "Opening the web:  2025/04/29\n"
     ]
    }
   ],
   "source": [
    "from time import localtime, strftime\n",
    "print(\"Opening the web: \", strftime(\"%Y/%m/%d\", localtime()))"
   ]
  },
  {
   "cell_type": "code",
   "execution_count": null,
   "id": "8099de58",
   "metadata": {},
   "outputs": [
    {
     "data": {
      "text/plain": [
       "'2025/04/26'"
      ]
     },
     "execution_count": 7,
     "metadata": {},
     "output_type": "execute_result"
    }
   ],
   "source": [
    "from datetime import date, timedelta, datetime\n",
    "\n",
    "d = datetime.strptime(strftime(\"%Y/%m/%d\", localtime()), \"%Y/%m/%d\")\n",
    "(d + timedelta(days=-3)).strftime(\"%Y/%m/%d\")"
   ]
  },
  {
   "cell_type": "code",
   "execution_count": null,
   "id": "bdcc5da1",
   "metadata": {},
   "outputs": [
    {
     "name": "stdout",
     "output_type": "stream",
     "text": [
      "2025/04/29\n",
      "2025/04/28\n",
      "2025/04/27\n",
      "2025/04/26\n",
      "2025/04/25\n",
      "2025/04/24\n",
      "2025/04/23\n",
      "2025/04/22\n",
      "2025/04/21\n",
      "2025/04/20\n",
      "2025/04/19\n",
      "2025/04/18\n",
      "2025/04/17\n",
      "2025/04/16\n",
      "2025/04/15\n"
     ]
    }
   ],
   "source": [
    "for dat in range(0, 14):\n",
    "    d = datetime.strptime(strftime(\"%Y/%m/%d\", localtime()), \"%Y/%m/%d\")\n",
    "    print((d + timedelta(days=-dat)).strftime(\"%Y/%m/%d\"))"
   ]
  },
  {
   "cell_type": "markdown",
   "id": "93f0fbba",
   "metadata": {},
   "source": [
    "# Garf"
   ]
  },
  {
   "cell_type": "code",
   "execution_count": 14,
   "id": "4702e5b9",
   "metadata": {},
   "outputs": [],
   "source": [
    "import urllib.request\n",
    "from urllib.error import URLError, HTTPError\n",
    "from sys import argv\n",
    "from os import sep\n",
    "from requests import get as get_request\n",
    "from bs4 import BeautifulSoup\n",
    "from time import sleep"
   ]
  },
  {
   "cell_type": "code",
   "execution_count": 28,
   "metadata": {},
   "outputs": [],
   "source": [
    "links_list = [\"https://www.gocomics.com/garfieldespanol/\" + ((datetime.strptime(strftime(\"%Y/%m/%d\", localtime()), \"%Y/%m/%d\") + timedelta(days=-i)).strftime(\"%Y/%m/%d\"))\n",
    "              for i in range(0, 14)]"
   ]
  },
  {
   "cell_type": "code",
   "execution_count": 27,
   "id": "170f4afb",
   "metadata": {},
   "outputs": [
    {
     "name": "stdout",
     "output_type": "stream",
     "text": [
      "https://www.gocomics.com/garfieldespanol/2025/04/11\n"
     ]
    }
   ],
   "source": [
    "for link in reversed(links_list):\n",
    "    print(link)\n",
    "    date_str = link[-10:].replace(\"/\", \"_\")\n",
    "    if datetime.strptime(date_str, \"%Y_%m_%d\").weekday() == 6:\n",
    "        print(\"      Sunday with no strip\")\n",
    "    else:\n",
    "        sleep(6)\n",
    "        page_request = get_request(link)\n",
    "        soup = BeautifulSoup(page_request.content, 'html.parser')\n",
    "        loop_img = soup.findAll(\"img\")[1][\"src\"]\n",
    "\n",
    "        output = \"garf_\" + date_str + '.png'\n",
    "        urllib.request.urlretrieve(loop_img, output)\n",
    "    sleep(1)"
   ]
  },
  {
   "cell_type": "code",
   "execution_count": 26,
   "metadata": {},
   "outputs": [],
   "source": [
    "matrix = [[1,1,1],[1,0,1],[1,1,1]]\n",
    "\n",
    "zero_indexs = []\n",
    "from typing import List\n",
    "\n",
    "def setZeroList(l: List[int]) -> List[int]:\n",
    "    zero_present = False\n",
    "    for n, elem in enumerate(l):\n",
    "        \n",
    "        if elem == 0:\n",
    "            print(\"somenting\")\n",
    "            zero_present = True\n",
    "            zero_indexs.append(n)\n",
    "    if zero_present:           \n",
    "        return [0] * len(l)\n",
    "    else:\n",
    "        return l"
   ]
  },
  {
   "cell_type": "code",
   "execution_count": 27,
   "id": "3d7bba5f",
   "metadata": {},
   "outputs": [
    {
     "name": "stdout",
     "output_type": "stream",
     "text": [
      "somenting\n"
     ]
    }
   ],
   "source": [
    "\n",
    "for n, lis in enumerate(matrix):\n",
    "    \n",
    "    matrix[n] = setZeroList(lis)\n",
    "\n",
    "for n, lis in enumerate(matrix):\n",
    "    \n",
    "    tmp = lis\n",
    "    for i in zero_indexs:\n",
    "        tmp[i] = 0\n",
    "    \n",
    "    matrix[n] = tmp\n"
   ]
  },
  {
   "cell_type": "code",
   "execution_count": 17,
   "id": "31d5fcb8",
   "metadata": {},
   "outputs": [
    {
     "name": "stdout",
     "output_type": "stream",
     "text": [
      "somenting\n"
     ]
    },
    {
     "data": {
      "text/plain": [
       "[0, 0, 0]"
      ]
     },
     "execution_count": 17,
     "metadata": {},
     "output_type": "execute_result"
    }
   ],
   "source": [
    "setZeroList([1, 0, 1])"
   ]
  },
  {
   "cell_type": "code",
   "execution_count": 28,
   "id": "83345be8",
   "metadata": {},
   "outputs": [
    {
     "data": {
      "text/plain": [
       "[[1, 0, 1], [0, 0, 0], [1, 0, 1]]"
      ]
     },
     "execution_count": 28,
     "metadata": {},
     "output_type": "execute_result"
    }
   ],
   "source": [
    "matrix"
   ]
  },
  {
   "cell_type": "code",
   "execution_count": 33,
   "id": "2c25344c",
   "metadata": {},
   "outputs": [
    {
     "data": {
      "text/plain": [
       "1"
      ]
     },
     "execution_count": 33,
     "metadata": {},
     "output_type": "execute_result"
    }
   ],
   "source": [
    "l = [1,2,3,4]\n",
    "l.pop(0)"
   ]
  },
  {
   "cell_type": "code",
   "execution_count": 38,
   "id": "e1a98b43",
   "metadata": {},
   "outputs": [
    {
     "name": "stdout",
     "output_type": "stream",
     "text": [
      "[0, 1, 2, 3, 4]\n"
     ]
    },
    {
     "data": {
      "text/plain": [
       "5"
      ]
     },
     "execution_count": 38,
     "metadata": {},
     "output_type": "execute_result"
    }
   ],
   "source": [
    "def removeDuplicates(nums: List[int]) -> int:\n",
    "    aux = []\n",
    "    for i in nums:\n",
    "        if i not in aux:\n",
    "            aux.append(i)\n",
    "    \n",
    "    nums = aux\n",
    "    print(nums)\n",
    "    return len(nums)\n",
    "removeDuplicates([0,0,1,1,1,2,2,3,3,4])"
   ]
  },
  {
   "cell_type": "code",
   "execution_count": 49,
   "id": "d4f1cbab",
   "metadata": {},
   "outputs": [
    {
     "name": "stdout",
     "output_type": "stream",
     "text": [
      "2      1 1 1\n",
      "out [1, 1, 1, 2, 2, 3]\n",
      "3      2 1 1\n",
      "in [1, 1, 1, 2, 2, 3]\n",
      "out [1, 1, 2, 2, 2, 3]\n",
      "4      2 2 2\n",
      "out [1, 1, 2, 2, 2, 3]\n",
      "5      3 2 2\n",
      "in [1, 1, 2, 2, 2, 3]\n",
      "out [1, 1, 2, 3, 2, 3]\n",
      "[1, 1, 2, 3, 2, 3]\n"
     ]
    },
    {
     "data": {
      "text/plain": [
       "3"
      ]
     },
     "execution_count": 49,
     "metadata": {},
     "output_type": "execute_result"
    }
   ],
   "source": [
    "def removeDuplicates(nums: List[int]) -> int:\n",
    "    \n",
    "    pointer = 2\n",
    "\n",
    "    for i in range(2, len(nums)):\n",
    "        print(i, \"    \", nums[i], nums[i -1], nums[i -2] )\n",
    "        if nums[i] != nums[i -1] and nums[i] != nums[i -2]:\n",
    "            print(\"in\", nums)\n",
    "            nums[pointer] = nums[i]\n",
    "            pointer +=1\n",
    "        print(\"out\", nums)\n",
    "\n",
    "    print(nums)\n",
    "    return pointer -1\n",
    "removeDuplicates([1,1,1,2,2,3])"
   ]
  },
  {
   "cell_type": "code",
   "execution_count": 79,
   "id": "008bc712",
   "metadata": {},
   "outputs": [
    {
     "name": "stdout",
     "output_type": "stream",
     "text": [
      "[4, 5, 8, 9, 10]\n",
      "\n",
      "0 [0, 0, 1, 1, 1, 1, 3, 3, 3, 3, 3]\n",
      "1 [0, 0, 1, 1, 1, 1, 3, 3, 3, 3, 3]\n",
      "2 [0, 0, 1, 1, 1, 1, 3, 3, 3, 3, 3]\n",
      "3 [0, 0, 1, 1, 1, 1, 3, 3, 3, 3, 3]\n",
      "4 [0, 0, 1, 1, 1, 1, 3, 3, 3, 3, 3]\n",
      "one\n",
      "5 [0, 0, 1, 1, 1, 3, 3, 3, 3, 3]\n",
      "one\n",
      "6 [0, 0, 1, 1, 3, 3, 3, 3, 3]\n",
      "7 [0, 0, 1, 1, 3, 3, 3, 3, 3]\n",
      "8 [0, 0, 1, 1, 3, 3, 3, 3, 3]\n",
      "one\n",
      "9 [0, 0, 1, 1, 3, 3, 3, 3]\n",
      "one\n",
      "10 [0, 0, 1, 1, 3, 3, 3]\n",
      "one\n",
      "\n",
      "[0, 0, 1, 1, 3, 3]\n",
      "6\n"
     ]
    }
   ],
   "source": [
    "def removeDuplicates(nums: List[int]) -> int:\n",
    "    pointer = []\n",
    "\n",
    "    for i in range(2, len(nums)):\n",
    "        if nums[i] == nums[i -1] and nums[i] == nums[i -2]:\n",
    "            pointer.append(i)\n",
    "\n",
    "    print(pointer)\n",
    "    print(\"\")\n",
    "\n",
    "    modifier = 0\n",
    "    for n in range(0, len(nums)):\n",
    "        print(n, nums)\n",
    "        if n in pointer:\n",
    "            print(\"one\")\n",
    "            nums.pop(n - modifier)\n",
    "            modifier +=1\n",
    "\n",
    "    print(\"\")\n",
    "    print(nums)\n",
    "    print(len(nums))\n",
    "\n",
    "removeDuplicates([0,0,1,1,1,1,3,3,3,3,3])"
   ]
  },
  {
   "cell_type": "code",
   "execution_count": 7,
   "id": "7865ad2c",
   "metadata": {},
   "outputs": [
    {
     "data": {
      "text/plain": [
       "['M', 'CM', '', 'XC', '', 'IV', '']"
      ]
     },
     "execution_count": 7,
     "metadata": {},
     "output_type": "execute_result"
    }
   ],
   "source": [
    "from re import split\n",
    "s= \"MCMXCIV\"\n",
    "\n",
    "splitted = split(r'(IV|IX|XL|XC|CD|CM)', s)\n",
    "splitted"
   ]
  },
  {
   "cell_type": "code",
   "execution_count": 8,
   "id": "a94ffcca",
   "metadata": {},
   "outputs": [],
   "source": [
    "def adder(sub: str) -> int:\n",
    "    s_value = 0\n",
    "    for elem in sub:\n",
    "        if elem == \"I\":\n",
    "            s_value +=1\n",
    "        if elem == \"V\":\n",
    "            s_value +=5\n",
    "        if elem == \"X\":\n",
    "            s_value +=10\n",
    "        if elem == \"L\":\n",
    "            s_value +=50\n",
    "        if elem == \"C\":\n",
    "            s_value +=100\n",
    "        if elem == \"D\":\n",
    "            s_value +=500\n",
    "        if elem == \"M\":\n",
    "            s_value +=1000\n",
    "    return s_value\n"
   ]
  },
  {
   "cell_type": "code",
   "execution_count": 17,
   "id": "31341142",
   "metadata": {},
   "outputs": [
    {
     "data": {
      "text/plain": [
       "1000"
      ]
     },
     "execution_count": 17,
     "metadata": {},
     "output_type": "execute_result"
    }
   ],
   "source": [
    "adder(\"M\")"
   ]
  },
  {
   "cell_type": "code",
   "execution_count": 18,
   "id": "4b159673",
   "metadata": {},
   "outputs": [
    {
     "name": "stdout",
     "output_type": "stream",
     "text": [
      "['M', 'CM', '', 'XC', '', 'IV', '']\n",
      "---- M\n",
      "frees sta M 0\n",
      "free end M 1000\n",
      "---- CM\n",
      "excep 1900\n",
      "---- \n",
      "frees sta  1900\n",
      "free end  1900\n",
      "---- XC\n",
      "excep 1990\n",
      "---- \n",
      "frees sta  1990\n",
      "free end  1990\n",
      "---- IV\n",
      "excep 1994\n",
      "---- \n",
      "frees sta  1994\n",
      "free end  1994\n"
     ]
    },
    {
     "data": {
      "text/plain": [
       "1994"
      ]
     },
     "execution_count": 18,
     "metadata": {},
     "output_type": "execute_result"
    }
   ],
   "source": [
    "from re import split\n",
    "splitted = split(r'(IV|IX|XL|XC|CD|CM)', s)\n",
    "\n",
    "print(splitted)\n",
    "total = 0\n",
    "\n",
    "for chunk in splitted:\n",
    "    print(\"----\", chunk)\n",
    "    if chunk in [\"IV\", \"IX\", \"XL\", \"XC\", \"CD\", \"CM\"]:\n",
    "        if chunk == \"IV\":\n",
    "            total +=4\n",
    "        if chunk == \"IX\":\n",
    "            total +=9\n",
    "        if chunk == \"XL\":\n",
    "            total +=40\n",
    "        if chunk == \"XC\":\n",
    "            total +=90\n",
    "        if chunk == \"CD\":\n",
    "            total +=400\n",
    "        if chunk == \"CM\":\n",
    "            total +=900\n",
    "        print(\"excep\", total)\n",
    "    else:\n",
    "        print(\"frees sta\", chunk, total)\n",
    "        if chunk != \"\":\n",
    "            total += adder(chunk)\n",
    "        print(\"free end\", chunk, total)\n",
    "\n",
    "total"
   ]
  }
 ],
 "metadata": {
  "kernelspec": {
   "display_name": "Python 3",
   "language": "python",
   "name": "python3"
  },
  "language_info": {
   "codemirror_mode": {
    "name": "ipython",
    "version": 3
   },
   "file_extension": ".py",
   "mimetype": "text/x-python",
   "name": "python",
   "nbconvert_exporter": "python",
   "pygments_lexer": "ipython3",
   "version": "3.9.11 (tags/v3.9.11:2de452f, Mar 16 2022, 14:33:45) [MSC v.1929 64 bit (AMD64)]"
  },
  "vscode": {
   "interpreter": {
    "hash": "8f144b07f53539e70a668c8fd2097090d527e7eb12a24ffad3aeec7a3658774b"
   }
  }
 },
 "nbformat": 4,
 "nbformat_minor": 5
}
