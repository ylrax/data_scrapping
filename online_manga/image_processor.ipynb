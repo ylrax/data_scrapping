{
 "cells": [
  {
   "attachments": {},
   "cell_type": "markdown",
   "metadata": {},
   "source": [
    "# Fix encoding"
   ]
  },
  {
   "cell_type": "code",
   "execution_count": 29,
   "metadata": {},
   "outputs": [
    {
     "name": "stdout",
     "output_type": "stream",
     "text": [
      "How To Live As An Unlicensed Healer_Chapter 58-Page_01.jpg\n",
      "How To Live As An Unlicensed Healer_Chapter 58-Page_02.jpg\n",
      "How To Live As An Unlicensed Healer_Chapter 58-Page_03.jpg\n",
      "How To Live As An Unlicensed Healer_Chapter 58-Page_04.jpg\n",
      "How To Live As An Unlicensed Healer_Chapter 58-Page_05.jpg\n",
      "How To Live As An Unlicensed Healer_Chapter 58-Page_06.jpg\n",
      "How To Live As An Unlicensed Healer_Chapter 58-Page_07.jpg\n",
      "How To Live As An Unlicensed Healer_Chapter 58-Page_08.jpg\n",
      "How To Live As An Unlicensed Healer_Chapter 58-Page_09.jpg\n",
      "How To Live As An Unlicensed Healer_Chapter 58-Page_10.jpg\n",
      "How To Live As An Unlicensed Healer_Chapter 58-Page_11.jpg\n",
      "How To Live As An Unlicensed Healer_Chapter 58-Page_12.jpg\n",
      "How To Live As An Unlicensed Healer_Chapter 58-Page_13.jpg\n",
      "How To Live As An Unlicensed Healer_Chapter 58-Page_14.jpg\n"
     ]
    }
   ],
   "source": [
    "from PIL import Image\n",
    "import os\n",
    "\n",
    "files_path = r'Z:\\JD\\How to live as an unlicenced healer'\n",
    "destination_path = \"Z:\\JD\\TMP\"\n",
    "files = os.listdir(files_path)\n",
    "\n",
    "for file in files:\n",
    "\n",
    "    #if file.endswith(\"-f.jpg\"):\n",
    "    #if any(i in file for i in ['408-', '409-','410-', '411-', '412-', '413-', '414-', '415-', '416-', '417-', '420-',]):\n",
    "    try: \n",
    "        #if int(file.replace(\"Clever Cleaning Life Of The Returned Genius Hunter_Chapter \" , \"\").split(\"-\")[0]) >=408:\n",
    "        if any(i in file for i in [' 58-',]):\n",
    "        #if any(i in file for i in ['_198_',]):\n",
    "        #if file.endswith(\"-f.jpg\"):\n",
    "        #if file.endswith(\"-f.jpg\") and int(file.replace(\"chapter_\" , \"\").split(\"_\")[-2]) >= 30:\n",
    "            print(file)\n",
    "            img = Image.open(os.path.join(files_path, file))\n",
    "            try:\n",
    "                img.save(os.path.join(destination_path, file))\n",
    "            except OSError:\n",
    "                rgb_im = img.convert('RGB')\n",
    "\n",
    "                rgb_im.save(os.path.join(destination_path, file))\n",
    "    except ValueError:\n",
    "        pass"
   ]
  },
  {
   "cell_type": "code",
   "execution_count": 30,
   "metadata": {},
   "outputs": [
    {
     "name": "stdout",
     "output_type": "stream",
     "text": [
      "How To Live As An Unlicensed Healer_Chapter 58-Page_01.jpg\n",
      "How To Live As An Unlicensed Healer_Chapter 58-Page_02.jpg\n",
      "How To Live As An Unlicensed Healer_Chapter 58-Page_03.jpg\n",
      "How To Live As An Unlicensed Healer_Chapter 58-Page_04.jpg\n",
      "How To Live As An Unlicensed Healer_Chapter 58-Page_05.jpg\n",
      "How To Live As An Unlicensed Healer_Chapter 58-Page_06.jpg\n",
      "How To Live As An Unlicensed Healer_Chapter 58-Page_07.jpg\n",
      "How To Live As An Unlicensed Healer_Chapter 58-Page_08.jpg\n",
      "How To Live As An Unlicensed Healer_Chapter 58-Page_09.jpg\n",
      "How To Live As An Unlicensed Healer_Chapter 58-Page_10.jpg\n",
      "How To Live As An Unlicensed Healer_Chapter 58-Page_11.jpg\n",
      "How To Live As An Unlicensed Healer_Chapter 58-Page_12.jpg\n",
      "How To Live As An Unlicensed Healer_Chapter 58-Page_13.jpg\n",
      "How To Live As An Unlicensed Healer_Chapter 58-Page_14.jpg\n"
     ]
    }
   ],
   "source": [
    "# move it back to the folder\n",
    "import shutil\n",
    "corrected_img_path = \"Z:\\JD\\TMP\"\n",
    "\n",
    "files_to_move = os.listdir(corrected_img_path)\n",
    "for file in files_to_move:\n",
    "    print(file)\n",
    "    os.remove(os.path.join(files_path, file))\n",
    "    shutil.move(os.path.join(corrected_img_path, file), os.path.join(files_path, file))"
   ]
  },
  {
   "attachments": {},
   "cell_type": "markdown",
   "metadata": {},
   "source": [
    "# Renaming"
   ]
  },
  {
   "cell_type": "code",
   "execution_count": null,
   "metadata": {},
   "outputs": [],
   "source": [
    "import os\n",
    "\n",
    "files_path = \"Z:\\JD\\TMP\"\n",
    "files = os.listdir(files_path)"
   ]
  },
  {
   "cell_type": "code",
   "execution_count": null,
   "metadata": {},
   "outputs": [],
   "source": [
    "#Living In This World With Cut & Paste_Chapter 84-Page_08\n",
    "files[0].replace(\"Living In This World With Cut & Paste_Vol.1 \", \"Living In This World With Cut & Paste_\")"
   ]
  },
  {
   "cell_type": "code",
   "execution_count": null,
   "metadata": {},
   "outputs": [],
   "source": [
    "for f in files:\n",
    "    os.rename(os.path.join(files_path, f),\n",
    "             os.path.join(files_path, f.replace(\"Living In This World With Cut & Paste_Chapter 4-\", \"Living In This World With Cut & Paste_Chapter 4.0-\")))"
   ]
  }
 ],
 "metadata": {
  "kernelspec": {
   "display_name": "Python 3",
   "language": "python",
   "name": "python3"
  },
  "language_info": {
   "codemirror_mode": {
    "name": "ipython",
    "version": 3
   },
   "file_extension": ".py",
   "mimetype": "text/x-python",
   "name": "python",
   "nbconvert_exporter": "python",
   "pygments_lexer": "ipython3",
   "version": "3.9.11 (tags/v3.9.11:2de452f, Mar 16 2022, 14:33:45) [MSC v.1929 64 bit (AMD64)]"
  },
  "orig_nbformat": 4,
  "vscode": {
   "interpreter": {
    "hash": "8f144b07f53539e70a668c8fd2097090d527e7eb12a24ffad3aeec7a3658774b"
   }
  }
 },
 "nbformat": 4,
 "nbformat_minor": 2
}
